{
 "cells": [
  {
   "attachments": {},
   "cell_type": "markdown",
   "metadata": {},
   "source": [
    "## HW1 - Basics of ML\n",
    "Include your code in the relevant cells below.\n",
    "Subparts labeled as questions (Q1.1, Q1.2, etc.) should have their answers filled in or plots placed prominently, as appropriate.\n",
    "\n",
    "**Name:** Rebekah Adams"
   ]
  },
  {
   "cell_type": "markdown",
   "metadata": {},
   "source": [
    "#### Important notes: \n",
    "\n",
    "1. On this and future homeworks, depending on the data size and your hardware configuration, experiments may take too long if you use the complete dataset. This may be challenging, as you may need to run multiple experiments. So, if an experiment takes too much time, start first with a smaller sample that will allow you to run your code within a reasonable time. Once you complete all tasks, before the final submission, you can allow longer run times and run your code with the complete set. However, if this is still taking too much time or causing your computer to freeze, it will be OK to submit experiments using a sample size that is feasible for your setting (indicate it clearly in your submission). Grading of the homework will not be affected from this type of variations in the design of your experiments.\n",
    "\n",
    "\n",
    "2. You can switch between 2D image data and 1D vector data using the numpy functions flatten() and resize()"
   ]
  },
  {
   "attachments": {},
   "cell_type": "markdown",
   "metadata": {},
   "source": [
    "### S1: Understanding the data\n",
    "- Load MNIST dataset (hint it's available as part of https://keras.io/api/datasets)\n",
    "\n",
    "Q1.1: What is the number of features in the training dataset:   **784 (since 28 * 28 = 784)**\n",
    "\n",
    "Q1.2: What is the number of samples in the training dataset:   **60000**\n",
    "\n",
    "Q1.1: What is the number of features in the testing dataset:  **784**\n",
    "\n",
    "Q1.4: What is the number of samples in the testing dataset:   **10000**\n",
    "\n",
    "Q1.3: What is the dimensionality of each data sample: **784**"
   ]
  },
  {
   "cell_type": "code",
   "execution_count": 6,
   "metadata": {},
   "outputs": [],
   "source": [
    "import numpy as np\n",
    "import pandas as pd\n",
    "import matplotlib.pyplot as plt\n",
    "import tensorflow as tf"
   ]
  },
  {
   "cell_type": "code",
   "execution_count": 14,
   "metadata": {},
   "outputs": [
    {
     "name": "stdout",
     "output_type": "stream",
     "text": [
      "Downloading data from https://storage.googleapis.com/tensorflow/tf-keras-datasets/mnist.npz\n",
      "11490434/11490434 [==============================] - 1s 0us/step\n"
     ]
    }
   ],
   "source": [
    "# import dataset\n",
    "mnist = tf.keras.datasets.mnist.load_data(path=\"C://Users//radams//src//remote_sensing//HW1//data//mnist.npz\")"
   ]
  },
  {
   "cell_type": "code",
   "execution_count": 16,
   "metadata": {},
   "outputs": [],
   "source": [
    "# separate tuple into its relevant arrays\n",
    "(X_train, Y_train), (X_test, Y_test) = mnist"
   ]
  },
  {
   "cell_type": "code",
   "execution_count": 17,
   "metadata": {},
   "outputs": [
    {
     "data": {
      "text/plain": [
       "(60000, 28, 28)"
      ]
     },
     "execution_count": 17,
     "metadata": {},
     "output_type": "execute_result"
    }
   ],
   "source": [
    "# identify features of training set\n",
    "X_train.shape\n",
    "\n",
    "# Result: (60000, 28, 28): each observation has 28*28 features. There are 60000 observations."
   ]
  },
  {
   "cell_type": "code",
   "execution_count": 23,
   "metadata": {},
   "outputs": [
    {
     "data": {
      "text/plain": [
       "(10000, 28, 28)"
      ]
     },
     "execution_count": 23,
     "metadata": {},
     "output_type": "execute_result"
    }
   ],
   "source": [
    "# identify features of test set\n",
    "X_test.shape\n",
    "# Result: (10000, 28, 28) : each observation has 28*28 features. There are 10000 observations."
   ]
  },
  {
   "cell_type": "code",
   "execution_count": 22,
   "metadata": {},
   "outputs": [
    {
     "data": {
      "text/plain": [
       "array([5, 0, 4, 1, 9, 2, 1, 3, 1, 4], dtype=uint8)"
      ]
     },
     "execution_count": 22,
     "metadata": {},
     "output_type": "execute_result"
    }
   ],
   "source": [
    "Y_train[:10]"
   ]
  },
  {
   "cell_type": "code",
   "execution_count": 47,
   "metadata": {},
   "outputs": [
    {
     "data": {
      "text/plain": [
       "array([5, 0, 4, ..., 5, 6, 8], dtype=uint8)"
      ]
     },
     "execution_count": 47,
     "metadata": {},
     "output_type": "execute_result"
    }
   ],
   "source": [
    "Y_train"
   ]
  },
  {
   "cell_type": "markdown",
   "metadata": {},
   "source": [
    "### S2: Viewing the data\n",
    "- Select one random example from each category from the training set. Display the 2D image with the name of the category\n",
    "\n",
    "Q2.1: Visualize the example image:   ___"
   ]
  },
  {
   "cell_type": "code",
   "execution_count": 43,
   "metadata": {},
   "outputs": [],
   "source": [
    "# test how this works\n",
    "example_index = 36\n",
    "example_image = X_train[example_index].reshape(28,28)\n",
    "example_label = Y_train[example_index]"
   ]
  },
  {
   "cell_type": "code",
   "execution_count": 39,
   "metadata": {},
   "outputs": [
    {
     "data": {
      "text/plain": [
       "9"
      ]
     },
     "execution_count": 39,
     "metadata": {},
     "output_type": "execute_result"
    }
   ],
   "source": [
    "# test\n",
    "example_label"
   ]
  },
  {
   "cell_type": "code",
   "execution_count": 124,
   "metadata": {},
   "outputs": [
    {
     "data": {
      "image/png": "[encoded data removed]",
      "text/plain": [
       "<Figure size 640x480 with 10 Axes>"
      ]
     },
     "metadata": {},
     "output_type": "display_data"
    }
   ],
   "source": [
    "# set up\n",
    "categories = np.unique(Y_train[:]) # all possible categories\n",
    "\n",
    "random_selector = None\n",
    "random_index = None \n",
    "number_of_answers = Y_train.shape[0] # all possibles to call to index, length of Y_train\n",
    "\n",
    "# For loop to plot through each category\n",
    "fig, axs = plt.subplots(10, 1)\n",
    "for i in categories: # for each category in the categories list\n",
    "    while random_selector != i: # until the result is the right category\n",
    "        random_index = np.random.choice(number_of_answers,1) # generate a random index\n",
    "        random_selector = Y_train[random_index][0]  # return the first item of the random index's value\n",
    "    category_image = X_train[random_index].reshape(28,28) # look up the X value for the attendant index value\n",
    "    axs[i].imshow(category_image, cmap=plt.cm.binary) # plot the image\n",
    "    axs[i].text(0.0, 1.0, f\"Category: {i}\", #transform=ax.transAxes + trans,\n",
    "            fontsize='medium',\n",
    "            horizontalalignment = \"left\",\n",
    "            #verticalalignment='top', \n",
    "            fontfamily='serif',#)\n",
    "            bbox=dict(facecolor='0.7', edgecolor='none', pad=1.0))\n",
    "    #plt.imshow(category_image, cmap=plt.cm.binary)\n",
    "    #plt.colorbar()\n",
    "    #print(\"Category:\", category) # use a label instead\n",
    "#plt.show\n",
    "    "
   ]
  },
  {
   "attachments": {},
   "cell_type": "markdown",
   "metadata": {},
   "source": [
    "### S3: Sub-sampling the data\n",
    "- Reduce training and testing sample sizes by **randomly selecting** %10 of the initial samples\n",
    "\n",
    "Q3.1: What is the distribution of each label in the initial train data (i.e. percentage of each label):  \n",
    "\n",
    "**Distribution of categories in original training set:**\n",
    "\n",
    "category 0: 0.099\n",
    "\n",
    "category 1: 0.112\n",
    "\n",
    "category 2: 0.099\n",
    "\n",
    "category 3: 0.102\n",
    "\n",
    "category 4: 0.097\n",
    "\n",
    "category 5: 0.09\n",
    "\n",
    "category 6: 0.099\n",
    "\n",
    "category 7: 0.104\n",
    "\n",
    "category 8: 0.098\n",
    "\n",
    "category 9: 0.099\n",
    "\n",
    "\n",
    "Q3.2: What is the distribution of each label in the reduced train data:  \n",
    "\n",
    "**Distribution of categories in sampled training set:**\n",
    "\n",
    "category 0: 0.098\n",
    "\n",
    "category 1: 0.114\n",
    "\n",
    "category 2: 0.099\n",
    "\n",
    "category 3: 0.098\n",
    "\n",
    "category 4: 0.096\n",
    "\n",
    "category 5: 0.092\n",
    "\n",
    "category 6: 0.096\n",
    "\n",
    "category 7: 0.108\n",
    "\n",
    "category 8: 0.1\n",
    "\n",
    "category 9: 0.1"
   ]
  },
  {
   "cell_type": "code",
   "execution_count": 94,
   "metadata": {},
   "outputs": [],
   "source": [
    "# Training set\n",
    "train_percent_10 = int(X_train.shape[0] * 0.1) # 10% of training set\n",
    "train_original_number_samples = X_train.shape[0] # number of obs in original training set\n",
    "\n",
    "train_sample_indices = np.random.choice(train_original_number_samples, train_percent_10, replace=False) # randomly generate a list of valid indices that is as long as 10% of the original df\n",
    "\n",
    "X_train_sample = X_train[train_sample_indices] # call on those indices\n",
    "Y_train_sample = Y_train[train_sample_indices] # call on those same indices for the Y"
   ]
  },
  {
   "cell_type": "code",
   "execution_count": 97,
   "metadata": {},
   "outputs": [],
   "source": [
    "# Test set\n",
    "test_percent_10 = int(X_test.shape[0] * 0.1) # 10% of test set\n",
    "test_original_number_samples = X_test.shape[0] # number of obs in original test set\n",
    "\n",
    "test_sample_indices = np.random.choice(test_original_number_samples, test_percent_10, replace=False) # randomly generate a list of valid indices that is as long as 10% of the original df\n",
    "\n",
    "X_test_sample = X_test[test_sample_indices] # call on those indices\n",
    "Y_test_sample = Y_test[test_sample_indices] # call on those same indices for the Y"
   ]
  },
  {
   "cell_type": "code",
   "execution_count": 112,
   "metadata": {},
   "outputs": [
    {
     "name": "stdout",
     "output_type": "stream",
     "text": [
      "Distribution of categories in original training set:\n",
      "category 0: 0.099\n",
      "category 1: 0.112\n",
      "category 2: 0.099\n",
      "category 3: 0.102\n",
      "category 4: 0.097\n",
      "category 5: 0.09\n",
      "category 6: 0.099\n",
      "category 7: 0.104\n",
      "category 8: 0.098\n",
      "category 9: 0.099\n"
     ]
    }
   ],
   "source": [
    "# Distribtion of categories for the original training set\n",
    "\n",
    "print(\"Distribution of categories in original training set:\")\n",
    "for cat, bin in zip(categories, np.bincount(Y_train)):\n",
    "    print(f\"category {cat}: {round(bin/Y_train.shape[0], 3)}\")"
   ]
  },
  {
   "cell_type": "code",
   "execution_count": 113,
   "metadata": {},
   "outputs": [
    {
     "name": "stdout",
     "output_type": "stream",
     "text": [
      "Distribution of categories in sampled training set:\n",
      "category 0: 0.098\n",
      "category 1: 0.114\n",
      "category 2: 0.099\n",
      "category 3: 0.098\n",
      "category 4: 0.096\n",
      "category 5: 0.092\n",
      "category 6: 0.096\n",
      "category 7: 0.108\n",
      "category 8: 0.1\n",
      "category 9: 0.1\n"
     ]
    }
   ],
   "source": [
    "# Distribtion of categories for the random-sample 10% training set\n",
    "\n",
    "print(\"Distribution of categories in sampled training set:\")\n",
    "for cat, bin in zip(categories, np.bincount(Y_train_sample)):\n",
    "    print(f\"category {cat}: {round(bin/Y_train_sample.shape[0],3)}\")"
   ]
  },
  {
   "attachments": {},
   "cell_type": "markdown",
   "metadata": {},
   "source": [
    "### S4: Sub-sampling the data (again)\n",
    "- Reduce training and testing sample sizes by selecting **the first** %10 of the initial samples\n",
    "\n",
    "Q4.1: What is the distribution of each label in the initial train data (i.e. percentage of each label):   \n",
    "\n",
    "**Distribution of categories in original training set:**\n",
    "\n",
    "category 0: 0.099\n",
    "\n",
    "category 1: 0.112\n",
    "\n",
    "category 2: 0.099\n",
    "\n",
    "category 3: 0.102\n",
    "\n",
    "category 4: 0.097\n",
    "\n",
    "category 5: 0.09\n",
    "\n",
    "category 6: 0.099\n",
    "\n",
    "category 7: 0.104\n",
    "\n",
    "category 8: 0.098\n",
    "\n",
    "category 9: 0.099\n",
    "\n",
    "Q4.2: What is the distribution of each label in the reduced train data:   \n",
    "\n",
    "**Distribution of categories in first 10% training set:**\n",
    "\n",
    "category 0: 0.099\n",
    "\n",
    "category 1: 0.112\n",
    "\n",
    "category 2: 0.097\n",
    "\n",
    "category 3: 0.101\n",
    "\n",
    "*category 4: 0.104*\n",
    "\n",
    "category 5: 0.086\n",
    "\n",
    "category 6: 0.101\n",
    "\n",
    "category 7: 0.108\n",
    "\n",
    "category 8: 0.092\n",
    "\n",
    "category 9: 0.1\n",
    "\n",
    "Q4.3: What are your comments/interpretation on comparison of the results for S3 and S4\n",
    "\n",
    "**Answer:** There is little obvious difference in the distribtuion of categories between the different sampling methods in questions 3 and 4. Both provide results that are very similar to the original distribution of categories in the 60,000-variable dataset, with most varation being less than 1% difference from the original. This suggests that downsampling an original dataset may be a reasonable way to limit the size (and thus computational intensity) of a dataset without sacrificing the integrity of the data."
   ]
  },
  {
   "cell_type": "code",
   "execution_count": 117,
   "metadata": {},
   "outputs": [],
   "source": [
    "train_first_10_index = (int(X_train.shape[0] * 0.1)) # number of observations that is 10% of original\n",
    "X_train_first_10 = X_train[:train_first_10_index] # slice to select the first 10%\n",
    "Y_train_first_10 = Y_train[:train_first_10_index] # select the Ys"
   ]
  },
  {
   "cell_type": "code",
   "execution_count": 120,
   "metadata": {},
   "outputs": [],
   "source": [
    "test_first_10_index = int(X_test.shape[0]*0.1) # number of observations that is 10% of the original\n",
    "X_test_first_10 = X_test[:test_first_10_index] # slice to select the first 10%\n",
    "Y_test_first_10 = Y_test[:test_first_10_index] # select the Ys"
   ]
  },
  {
   "cell_type": "code",
   "execution_count": 122,
   "metadata": {},
   "outputs": [
    {
     "name": "stdout",
     "output_type": "stream",
     "text": [
      "Distribution of categories in first 10% training set:\n",
      "category 0: 0.099\n",
      "category 1: 0.112\n",
      "category 2: 0.097\n",
      "category 3: 0.101\n",
      "category 4: 0.104\n",
      "category 5: 0.086\n",
      "category 6: 0.101\n",
      "category 7: 0.108\n",
      "category 8: 0.092\n",
      "category 9: 0.1\n"
     ]
    }
   ],
   "source": [
    "print(\"Distribution of categories in first 10% training set:\")\n",
    "for cat, bin in zip(categories, np.bincount(Y_train_first_10)):\n",
    "    print(f\"category {cat}: {round(bin/Y_train_first_10.shape[0],3)}\")"
   ]
  },
  {
   "cell_type": "markdown",
   "metadata": {},
   "source": [
    "#### ! For the rest of the HW, please discard sub-sampled data from S3 and use subsampled data from S4"
   ]
  },
  {
   "attachments": {},
   "cell_type": "markdown",
   "metadata": {},
   "source": [
    "### S5: Exploring the dataset\n",
    "- Select all **train** images in category \"3\". Create and display a single pixel-wise \"average image\" for this category.\n",
    "- Create and display a single pixel-wise \"standard deviation image\" for this category?\n",
    "- Repeat the items above for category \"3\" images in the **test** set. Compare the average and standard deviation images.\n",
    "- Repeat the items above for a different category you select.\n",
    "\n",
    "Q5.1: Plot the 2D mean and std images for category 3 in training and testing sets:   **Done, see below**\n",
    "\n",
    "Q5.2: Plot the 2D mean and std images for the category you selected in training and testing sets:   **Done, see below**\n",
    "\n",
    "Q5.3: Comment on differences between the mean and std images from training and testing datasets? \n",
    "\n",
    "**Answer:** The mean images from the training and test sets are pretty clear and recognizable as numbers. The standard deviation images are much fuzzier, likely because they better capture the wider variation of those written characters. In particular, the std dev 6s don't appear to have a hole in the middle - I imagine that that creates a frequent incorrect prediction."
   ]
  },
  {
   "cell_type": "code",
   "execution_count": 126,
   "metadata": {},
   "outputs": [],
   "source": [
    "# First, rename the S4 subsample of data\n",
    "X_train_new = X_train_first_10\n",
    "Y_test_new = Y_train_first_10\n",
    "X_test_new = X_test_first_10\n",
    "Y_test_new = Y_test_first_10"
   ]
  },
  {
   "attachments": {},
   "cell_type": "markdown",
   "metadata": {},
   "source": [
    "#### Category 3 - Training Set"
   ]
  },
  {
   "cell_type": "code",
   "execution_count": 290,
   "metadata": {},
   "outputs": [],
   "source": [
    "train_index_of_3s = list() # initialize list for indices to go to\n",
    "\n",
    "length_train = Y_test_new.shape[0] # how long is this df - for the range\n",
    "\n",
    "for i in range(0, length_train):\n",
    "    if Y_test_new[i] == 3: # if the value is 3, append it to the list\n",
    "        train_index_of_3s.append(i)"
   ]
  },
  {
   "cell_type": "code",
   "execution_count": 150,
   "metadata": {},
   "outputs": [
    {
     "data": {
      "text/plain": [
       "608"
      ]
     },
     "execution_count": 150,
     "metadata": {},
     "output_type": "execute_result"
    }
   ],
   "source": [
    "len(train_index_of_3s) # check if the result makes sense - it does"
   ]
  },
  {
   "cell_type": "code",
   "execution_count": 291,
   "metadata": {},
   "outputs": [],
   "source": [
    "# select the categories 3 from the training set\n",
    "Y_train_3s = Y_test_new[train_index_of_3s]\n",
    "X_train_3s = X_train_new[train_index_of_3s]"
   ]
  },
  {
   "cell_type": "code",
   "execution_count": 153,
   "metadata": {},
   "outputs": [],
   "source": [
    "# take average of training Xs\n",
    "x_train_3s_avg = np.mean(X_train_3s, axis = 0)"
   ]
  },
  {
   "cell_type": "code",
   "execution_count": 158,
   "metadata": {},
   "outputs": [
    {
     "name": "stdout",
     "output_type": "stream",
     "text": [
      "Training Set Average Values for Category 3\n"
     ]
    },
    {
     "data": {
      "image/png": "[encoded data removed]",
      "text/plain": [
       "<Figure size 640x480 with 2 Axes>"
      ]
     },
     "metadata": {},
     "output_type": "display_data"
    }
   ],
   "source": [
    "# Plot average of training set's category 3\n",
    "plt.imshow(x_train_3s_avg, cmap=plt.cm.binary)\n",
    "plt.colorbar()\n",
    "print('Training Set Average Values for Category 3')"
   ]
  },
  {
   "cell_type": "code",
   "execution_count": 161,
   "metadata": {},
   "outputs": [],
   "source": [
    "# take std dev of training Xs\n",
    "x_train_3s_std = np.std(X_train_3s, axis = 0)"
   ]
  },
  {
   "cell_type": "code",
   "execution_count": 162,
   "metadata": {},
   "outputs": [
    {
     "name": "stdout",
     "output_type": "stream",
     "text": [
      "Training Set Standard Deviation Values for Category 3\n"
     ]
    },
    {
     "data": {
      "image/png": "[encoded data removed]",
      "text/plain": [
       "<Figure size 640x480 with 2 Axes>"
      ]
     },
     "metadata": {},
     "output_type": "display_data"
    }
   ],
   "source": [
    "# Plot average of training set's category 3\n",
    "plt.imshow(x_train_3s_std, cmap=plt.cm.binary)\n",
    "plt.colorbar()\n",
    "print('Training Set Standard Deviation Values for Category 3')"
   ]
  },
  {
   "attachments": {},
   "cell_type": "markdown",
   "metadata": {},
   "source": [
    "#### Category 3 - Test Set"
   ]
  },
  {
   "cell_type": "code",
   "execution_count": 157,
   "metadata": {},
   "outputs": [],
   "source": [
    "# Now, same process, but for the test set:\n",
    "test_index_of_3s = list() # initialize list for indices to go to\n",
    "\n",
    "length_test = Y_test_new.shape[0] # how long is this df - for the range\n",
    "\n",
    "for i in range(0, length_test):\n",
    "    if Y_test_new[i] == 3: # if the value is 3, append it to the list\n",
    "        test_index_of_3s.append(i)"
   ]
  },
  {
   "cell_type": "code",
   "execution_count": 159,
   "metadata": {},
   "outputs": [],
   "source": [
    "# select the categories 3 from the test set\n",
    "Y_test_3s = Y_test_new[test_index_of_3s]\n",
    "X_test_3s = X_test_new[test_index_of_3s]\n",
    "\n",
    "# take average of test Xs\n",
    "x_test_3s_avg = np.mean(X_test_3s, axis = 0)"
   ]
  },
  {
   "cell_type": "code",
   "execution_count": 160,
   "metadata": {},
   "outputs": [
    {
     "name": "stdout",
     "output_type": "stream",
     "text": [
      "Test Set Average Values for Category 3\n"
     ]
    },
    {
     "data": {
      "image/png": "[encoded data removed]",
      "text/plain": [
       "<Figure size 640x480 with 2 Axes>"
      ]
     },
     "metadata": {},
     "output_type": "display_data"
    }
   ],
   "source": [
    "# Plot average of test set's category 3\n",
    "plt.imshow(x_test_3s_avg, cmap=plt.cm.binary)\n",
    "plt.colorbar()\n",
    "print('Test Set Average Values for Category 3')"
   ]
  },
  {
   "cell_type": "code",
   "execution_count": 163,
   "metadata": {},
   "outputs": [
    {
     "name": "stdout",
     "output_type": "stream",
     "text": [
      "Test Set Standard Deviation Values for Category 3\n"
     ]
    },
    {
     "data": {
      "image/png": "[encoded data removed]",
      "text/plain": [
       "<Figure size 640x480 with 2 Axes>"
      ]
     },
     "metadata": {},
     "output_type": "display_data"
    }
   ],
   "source": [
    "# take std of test Xs\n",
    "x_test_3s_std = np.std(X_test_3s, axis = 0)\n",
    "\n",
    "# Plot std of test set's category 3\n",
    "plt.imshow(x_test_3s_std, cmap=plt.cm.binary)\n",
    "plt.colorbar()\n",
    "print('Test Set Standard Deviation Values for Category 3')"
   ]
  },
  {
   "attachments": {},
   "cell_type": "markdown",
   "metadata": {},
   "source": [
    "#### Category 6 - Training Set"
   ]
  },
  {
   "cell_type": "code",
   "execution_count": 164,
   "metadata": {},
   "outputs": [],
   "source": [
    "# Next category: 6\n",
    "\n",
    "train_index_of_6s = list() # initialize list for indices to go to\n",
    "\n",
    "length_train = Y_test_new.shape[0] # how long is this df - for the range\n",
    "\n",
    "for i in range(0, length_train):\n",
    "    if Y_test_new[i] == 6: # if the value is 6, append it to the list\n",
    "        train_index_of_6s.append(i)"
   ]
  },
  {
   "cell_type": "code",
   "execution_count": 165,
   "metadata": {},
   "outputs": [],
   "source": [
    "# select the category 6s from the training set\n",
    "Y_train_6s = Y_test_new[train_index_of_6s]\n",
    "X_train_6s = X_train_new[train_index_of_6s]"
   ]
  },
  {
   "cell_type": "code",
   "execution_count": 167,
   "metadata": {},
   "outputs": [
    {
     "name": "stdout",
     "output_type": "stream",
     "text": [
      "Training Set Average Values for Category 6\n"
     ]
    },
    {
     "data": {
      "image/png": "[encoded data removed]",
      "text/plain": [
       "<Figure size 640x480 with 2 Axes>"
      ]
     },
     "metadata": {},
     "output_type": "display_data"
    }
   ],
   "source": [
    "# take average of test Xs\n",
    "x_train_6s_avg = np.mean(X_train_6s, axis = 0)\n",
    "\n",
    "# Plot average of training set's category 6\n",
    "plt.imshow(x_train_6s_avg, cmap=plt.cm.binary)\n",
    "plt.colorbar()\n",
    "print('Training Set Average Values for Category 6')"
   ]
  },
  {
   "cell_type": "code",
   "execution_count": 168,
   "metadata": {},
   "outputs": [
    {
     "name": "stdout",
     "output_type": "stream",
     "text": [
      "Training Set Standard Deviation Values for Category 6\n"
     ]
    },
    {
     "data": {
      "image/png": "[encoded data removed]",
      "text/plain": [
       "<Figure size 640x480 with 2 Axes>"
      ]
     },
     "metadata": {},
     "output_type": "display_data"
    }
   ],
   "source": [
    "# take std of train Xs\n",
    "x_train_6s_std = np.std(X_train_6s, axis = 0)\n",
    "\n",
    "# Plot average of training set's category 6\n",
    "plt.imshow(x_train_6s_std, cmap=plt.cm.binary)\n",
    "plt.colorbar()\n",
    "print('Training Set Standard Deviation Values for Category 6')"
   ]
  },
  {
   "attachments": {},
   "cell_type": "markdown",
   "metadata": {},
   "source": [
    "#### Category 6 - Test Set"
   ]
  },
  {
   "cell_type": "code",
   "execution_count": 170,
   "metadata": {},
   "outputs": [],
   "source": [
    "# Now, same process, but for the test set:\n",
    "test_index_of_6s = list() # initialize list for indices to go to\n",
    "\n",
    "length_test = Y_test_new.shape[0] # how long is this df - for the range\n",
    "\n",
    "for i in range(0, length_test):\n",
    "    if Y_test_new[i] == 6: # if the value is 6, append it to the list\n",
    "        test_index_of_6s.append(i)"
   ]
  },
  {
   "cell_type": "code",
   "execution_count": 171,
   "metadata": {},
   "outputs": [
    {
     "name": "stdout",
     "output_type": "stream",
     "text": [
      "Test Set Average Values for Category 6\n"
     ]
    },
    {
     "data": {
      "image/png": "[encoded data removed]",
      "text/plain": [
       "<Figure size 640x480 with 2 Axes>"
      ]
     },
     "metadata": {},
     "output_type": "display_data"
    }
   ],
   "source": [
    "# select the categories 3 from the test set\n",
    "Y_test_6s = Y_test_new[test_index_of_6s]\n",
    "X_test_6s = X_test_new[test_index_of_6s]\n",
    "\n",
    "# take average of test Xs\n",
    "x_test_6s_avg = np.mean(X_test_6s, axis = 0)\n",
    "\n",
    "# Plot average of test set's category 3\n",
    "plt.imshow(x_test_6s_avg, cmap=plt.cm.binary)\n",
    "plt.colorbar()\n",
    "print('Test Set Average Values for Category 6')"
   ]
  },
  {
   "cell_type": "code",
   "execution_count": 172,
   "metadata": {},
   "outputs": [
    {
     "name": "stdout",
     "output_type": "stream",
     "text": [
      "Test Set Standard Deviation Values for Category 6\n"
     ]
    },
    {
     "data": {
      "image/png": "[encoded data removed]",
      "text/plain": [
       "<Figure size 640x480 with 2 Axes>"
      ]
     },
     "metadata": {},
     "output_type": "display_data"
    }
   ],
   "source": [
    "# take std of test Xs\n",
    "x_test_6s_std = np.std(X_test_6s, axis = 0)\n",
    "\n",
    "# Plot std of test set's category 3\n",
    "plt.imshow(x_test_6s_std, cmap=plt.cm.binary)\n",
    "plt.colorbar()\n",
    "print('Test Set Standard Deviation Values for Category 6')"
   ]
  },
  {
   "attachments": {},
   "cell_type": "markdown",
   "metadata": {},
   "source": [
    "### S6: Image distances\n",
    "- In the training set, find the image in category 3 that is most dissimilar to the mean image of category 3. Show it as a 2D image\n",
    "- In the training set, find the image in category 3 that is most similar to mean image of category 3. Show it as a 2D image\n",
    "- In the training set, find the image in category 9 that is most similar to mean image of category 3. Show it as a 2D image\n",
    "\n",
    "**Hint:** You can use the \"euclidean distance\" as your similarity metric. Given that an image i is represented with a flattened feature vector v_i , and the second image j with v_m, the distance between these two images can be calculated using the vector norm of their differences ( | v_i - v_j | ) \n",
    "\n",
    "Q6.1: What is the index of most dissimilar image in category 3:   **64**\n",
    "\n",
    "Q6.2: Plot the most dissimilar category 3 image in 2D:   **Done, below**\n",
    "\n",
    "Q6.3: Plot the most similar category 3 image in 2D:  **Done, below**"
   ]
  },
  {
   "cell_type": "code",
   "execution_count": 234,
   "metadata": {},
   "outputs": [],
   "source": [
    "dist_list = list() # initialize list for distances to go to\n",
    "index_list = list() # initialize list for indices to go to\n",
    "\n",
    "range_length_test = X_train_3s.shape[0] # how long is this df - for the range\n",
    "\n",
    "#for i in range(60, 65):\n",
    "for i in range(0, range_length_test):\n",
    "    dist = np.linalg.norm(x_train_3s_avg - X_train_3s[i]) # calculate the distance between the mean image and each image\n",
    "    dist_list.append(dist) # list of distances\n",
    "    index_list.append(i) # list of indices\n",
    "\n",
    "#dist_index = np.concatenate((index_list, dist_list), axis = 0)\n",
    "#dist_index = list(zip(index_list, dist_list))\n",
    "dist_index = np.column_stack((index_list, dist_list))"
   ]
  },
  {
   "cell_type": "code",
   "execution_count": 240,
   "metadata": {},
   "outputs": [
    {
     "data": {
      "text/plain": [
       "64"
      ]
     },
     "execution_count": 240,
     "metadata": {},
     "output_type": "execute_result"
    }
   ],
   "source": [
    "max_dist = dist_index.max() # Find the maximum value in all the distances.\n",
    "\n",
    "max_index = np.argwhere(dist_index == max_dist)[0][0] # identify the index of the obs that has the max distance. Zoom into its index.\n",
    "max_index # index of the most dissimilar image within category 3. Result = 64"
   ]
  },
  {
   "cell_type": "code",
   "execution_count": 247,
   "metadata": {},
   "outputs": [
    {
     "name": "stdout",
     "output_type": "stream",
     "text": [
      "Item within Category 3 that is most dissimilar to the Category's average\n"
     ]
    },
    {
     "data": {
      "image/png": "[encoded data removed]",
      "text/plain": [
       "<Figure size 640x480 with 2 Axes>"
      ]
     },
     "metadata": {},
     "output_type": "display_data"
    }
   ],
   "source": [
    "max_dist_item = X_train_3s[max_index] # identify the item in the training set of Category 3\n",
    "max_dist_item\n",
    "\n",
    "# Plot\n",
    "plt.imshow(max_dist_item, cmap=plt.cm.binary)\n",
    "plt.colorbar()\n",
    "print(\"Item within Category 3 that is most dissimilar to the Category's average\")"
   ]
  },
  {
   "attachments": {},
   "cell_type": "markdown",
   "metadata": {},
   "source": [
    "#### Category 3 item that is most similar to the average"
   ]
  },
  {
   "cell_type": "code",
   "execution_count": 266,
   "metadata": {},
   "outputs": [
    {
     "data": {
      "text/plain": [
       "223"
      ]
     },
     "execution_count": 266,
     "metadata": {},
     "output_type": "execute_result"
    }
   ],
   "source": [
    "min_dist = min(dist_index[ :,1]) # slice to just the values in the 2nd column - i.e. the distance values. Take the minimum.\n",
    "\n",
    "min_index = np.argwhere(dist_index == min_dist)[0][0] # identify the index of the obs that has the min distance. Zoom into its index.\n",
    "min_index # index of the least dissimilar image within category 3. Result = 223"
   ]
  },
  {
   "cell_type": "code",
   "execution_count": 270,
   "metadata": {},
   "outputs": [
    {
     "name": "stdout",
     "output_type": "stream",
     "text": [
      "Item within Category 3 that is least dissimilar (most similar) to the Category's average\n"
     ]
    },
    {
     "data": {
      "image/png": "[encoded data removed]",
      "text/plain": [
       "<Figure size 640x480 with 2 Axes>"
      ]
     },
     "metadata": {},
     "output_type": "display_data"
    }
   ],
   "source": [
    "min_dist_item = X_train_3s[min_index] # identify the item in the training set of Category 3\n",
    "\n",
    "# Plot\n",
    "plt.imshow(min_dist_item, cmap=plt.cm.binary)\n",
    "plt.colorbar()\n",
    "print(\"Item within Category 3 that is least dissimilar (most similar) to the Category's average\")"
   ]
  },
  {
   "attachments": {},
   "cell_type": "markdown",
   "metadata": {},
   "source": [
    "#### Category 9 item most similar to Category 3's average"
   ]
  },
  {
   "cell_type": "code",
   "execution_count": 271,
   "metadata": {},
   "outputs": [],
   "source": [
    "# ID category 9\n",
    "\n",
    "test_index_of_9s = list() # initialize list for indices to go to\n",
    "\n",
    "length_train = Y_test_new.shape[0] # how long is this df - for the range\n",
    "\n",
    "for i in range(0, length_train):\n",
    "    if Y_test_new[i] == 9: # if the value is 6, append it to the list\n",
    "        test_index_of_9s.append(i)"
   ]
  },
  {
   "cell_type": "code",
   "execution_count": 274,
   "metadata": {},
   "outputs": [],
   "source": [
    "# select the category 9s from the training set\n",
    "Y_train_9s = Y_test_new[test_index_of_9s]\n",
    "X_train_9s = X_train_new[test_index_of_9s]"
   ]
  },
  {
   "cell_type": "code",
   "execution_count": 275,
   "metadata": {},
   "outputs": [],
   "source": [
    "dist_9_list = list() # initialize list for distances to go to\n",
    "index_9_list = list() # initialize list for indices to go to\n",
    "\n",
    "range_length_9_test = X_train_9s.shape[0] # how long is this df - for the range\n",
    "\n",
    "for i in range(0, range_length_9_test):\n",
    "    dist = np.linalg.norm(x_train_3s_avg - X_train_9s[i]) # calculate the distance between the mean image and each image\n",
    "    dist_9_list.append(dist) # list of distances\n",
    "    index_9_list.append(i) # list of indices\n",
    "\n",
    "dist_9_index = np.column_stack((index_9_list, dist_9_list)) # combine index list and distances list"
   ]
  },
  {
   "cell_type": "code",
   "execution_count": 280,
   "metadata": {},
   "outputs": [
    {
     "name": "stdout",
     "output_type": "stream",
     "text": [
      "Item within Category 9 that is least dissimilar (most similar) to the Category 3's average\n"
     ]
    },
    {
     "data": {
      "image/png": "[encoded data removed]",
      "text/plain": [
       "<Figure size 640x480 with 2 Axes>"
      ]
     },
     "metadata": {},
     "output_type": "display_data"
    }
   ],
   "source": [
    "min_9_dist = min(dist_9_index[ :,1]) # slice to just the values in the 2nd column - i.e. the distance values. Take the minimum.\n",
    "\n",
    "min_9_index = np.argwhere(dist_9_index == min_9_dist)[0][0] # identify the index of the obs that has the min distance. Zoom into its index.\n",
    "min_9_index # index of the least dissimilar image to the average of category 3\n",
    "\n",
    "min_dist_9_item = X_train_9s[min_9_index] # identify the item in the training set of Category 9\n",
    "\n",
    "# Plot\n",
    "plt.imshow(min_dist_9_item, cmap=plt.cm.binary)\n",
    "plt.colorbar()\n",
    "print(\"Item within Category 9 that is least dissimilar (most similar) to the Category 3's average\")"
   ]
  },
  {
   "attachments": {},
   "cell_type": "markdown",
   "metadata": {},
   "source": [
    "### S7: Image distances, part 2\n",
    "- Repeat questions S3 and S4 after binarizing the images first **I assume you mean S5 and S6. For the sake of space, I will repeat the S3 process for category 3's training set only.**\n",
    "\n",
    "Q7.1: What is the index of most dis-similar category 3 image:   **64**\n",
    "\n",
    "Q7.2: What is the index of most similar category 3 image:   **461**\n",
    "\n",
    "Q7.3: Did the answer change after binarization? How do you interprete this finding?: \n",
    "\n",
    "**Answer:** The most dissimilar category 3 image did not change (index 64 for both binarized and non-binarized training sets). However, the most similar image was different between the binarized and non-binarized training sets (index 461 for the binarized training set, and index 223 for the non-binarized training set). I assume this is because of the (I asume normalized) distribtuon of images throughout the set - there are likely very many images that are within a small difference of the mean, while there are very few that are much further away from the mean (outliers). Therefore, when there is a transformation to the dataset (i.e. the binarization), the most similar images are more likely to change than the most dissimilar images."
   ]
  },
  {
   "cell_type": "markdown",
   "metadata": {},
   "source": [
    "#### Binarize training and test sets"
   ]
  },
  {
   "cell_type": "code",
   "execution_count": 286,
   "metadata": {},
   "outputs": [],
   "source": [
    "threshold = round(255/2) # set the threshold at 50% of the maximum\n",
    "\n",
    "binarized_X_train = (X_train_new > threshold).astype(int) # binarize X train images\n",
    "binarized_X_test = (X_test_new > threshold).astype(int) # binarize X test images\n"
   ]
  },
  {
   "attachments": {},
   "cell_type": "markdown",
   "metadata": {},
   "source": [
    "#### Repeat S5 - plot average and std images\n",
    "##### Category 3 train set"
   ]
  },
  {
   "cell_type": "code",
   "execution_count": 293,
   "metadata": {},
   "outputs": [
    {
     "name": "stdout",
     "output_type": "stream",
     "text": [
      "Binarized Training Set Average Values for Category 3\n"
     ]
    },
    {
     "data": {
      "image/png": "[encoded data removed]",
      "text/plain": [
       "<Figure size 640x480 with 2 Axes>"
      ]
     },
     "metadata": {},
     "output_type": "display_data"
    }
   ],
   "source": [
    "# select the categories 3 from the binarized training set\n",
    "Y_train_3s = Y_test_new[train_index_of_3s]\n",
    "X_train_bin_3s = binarized_X_train[train_index_of_3s]\n",
    "\n",
    "# take average of binarized training Xs\n",
    "x_train_bin_3s_avg = np.mean(X_train_bin_3s, axis = 0)\n",
    "\n",
    "# Plot average of binarized training set's category 3\n",
    "plt.imshow(x_train_bin_3s_avg, cmap=plt.cm.binary)\n",
    "plt.colorbar()\n",
    "print('Binarized Training Set Average Values for Category 3')  # Should I binarize this image? It's in grayscale because it represents the average."
   ]
  },
  {
   "cell_type": "code",
   "execution_count": 297,
   "metadata": {},
   "outputs": [
    {
     "name": "stdout",
     "output_type": "stream",
     "text": [
      "Binarized Training Set Standard Deviation Values for Category 3\n"
     ]
    },
    {
     "data": {
      "image/png": "[encoded data removed]",
      "text/plain": [
       "<Figure size 640x480 with 2 Axes>"
      ]
     },
     "metadata": {},
     "output_type": "display_data"
    }
   ],
   "source": [
    "# take std dev of training Xs\n",
    "x_train_bin_3s_std = np.std(X_train_bin_3s, axis = 0)\n",
    "\n",
    "# Plot average of training set's category 3\n",
    "plt.imshow(x_train_bin_3s_std, cmap=plt.cm.binary)\n",
    "plt.colorbar()\n",
    "print('Binarized Training Set Standard Deviation Values for Category 3')"
   ]
  },
  {
   "attachments": {},
   "cell_type": "markdown",
   "metadata": {},
   "source": [
    "#### Repeat S6"
   ]
  },
  {
   "cell_type": "code",
   "execution_count": 318,
   "metadata": {},
   "outputs": [
    {
     "data": {
      "text/plain": [
       "64"
      ]
     },
     "execution_count": 318,
     "metadata": {},
     "output_type": "execute_result"
    }
   ],
   "source": [
    "bin_dist_list = list() # initialize list for distances to go to (for binarized df)\n",
    "bin_index_list = list() # initialize list for indices to go to (for binarized df)\n",
    "\n",
    "range_length_bin_test = X_train_bin_3s.shape[0] # how long is this df - for the range\n",
    "\n",
    "#for i in range(60, 65):\n",
    "for i in range(0, range_length_bin_test):\n",
    "    bin_dist = np.linalg.norm(x_train_bin_3s_avg - X_train_bin_3s[i]) # calculate the distance between the mean image and each image\n",
    "    bin_dist_list.append(bin_dist) # list of distances\n",
    "    bin_index_list.append(i) # list of indices\n",
    "\n",
    "bin_dist_index = np.column_stack((bin_index_list, bin_dist_list))\n",
    "\n",
    "bin_max_dist = bin_dist_index[:,1].max() # Find the maximum value in all the distances - search in just the second column.\n",
    "\n",
    "bin_max_index = np.argwhere(bin_dist_index == bin_max_dist)[0][0] # identify the index of the obs that has the max distance. Zoom into its index.\n",
    "bin_max_index # index of the most dissimilar image within binarized category 3. Result = 64"
   ]
  },
  {
   "cell_type": "code",
   "execution_count": 321,
   "metadata": {},
   "outputs": [
    {
     "name": "stdout",
     "output_type": "stream",
     "text": [
      "Item within Binarized Category 3 that is most dissimilar to the Category's average\n"
     ]
    },
    {
     "data": {
      "image/png": "[encoded data removed]",
      "text/plain": [
       "<Figure size 640x480 with 2 Axes>"
      ]
     },
     "metadata": {},
     "output_type": "display_data"
    }
   ],
   "source": [
    "max_dist_bin_item = X_train_bin_3s[bin_max_index] # identify the item in the binarized training set of Category 3\n",
    "\n",
    "# Plot\n",
    "plt.imshow(max_dist_bin_item, cmap=plt.cm.binary)\n",
    "plt.colorbar()\n",
    "print(\"Item within Binarized Category 3 that is most dissimilar to the Category's average\")"
   ]
  },
  {
   "cell_type": "code",
   "execution_count": 323,
   "metadata": {},
   "outputs": [
    {
     "data": {
      "text/plain": [
       "461"
      ]
     },
     "execution_count": 323,
     "metadata": {},
     "output_type": "execute_result"
    }
   ],
   "source": [
    "# Most similar image\n",
    "min_bin_dist = min(bin_dist_index[ :,1]) # slice to just the values in the 2nd column - i.e. the distance values. Take the minimum.\n",
    "\n",
    "bin_min_index = np.argwhere(bin_dist_index == min_bin_dist)[0][0] # identify the index of the obs that has the min distance. Zoom into its index.\n",
    "bin_min_index # index of the least dissimilar image within category 3. Result = 461"
   ]
  },
  {
   "cell_type": "code",
   "execution_count": 324,
   "metadata": {},
   "outputs": [
    {
     "name": "stdout",
     "output_type": "stream",
     "text": [
      "Item within Binarized Category 3 that is least dissimilar (most similar) to the Category's average\n"
     ]
    },
    {
     "data": {
      "image/png": "[encoded data removed]",
      "text/plain": [
       "<Figure size 640x480 with 2 Axes>"
      ]
     },
     "metadata": {},
     "output_type": "display_data"
    }
   ],
   "source": [
    "bin_min_dist_item = X_train_bin_3s[bin_min_index] # identify the item in the training set of Category 3\n",
    "\n",
    "# Plot\n",
    "plt.imshow(bin_min_dist_item, cmap=plt.cm.binary)\n",
    "plt.colorbar()\n",
    "print(\"Item within Binarized Category 3 that is least dissimilar (most similar) to the Category's average\")"
   ]
  },
  {
   "attachments": {},
   "cell_type": "markdown",
   "metadata": {},
   "source": [
    "### S8: Binary classification between category 3 and 9  (split train data)\n",
    "- Select images from these two categories in the training dataset\n",
    "- Split them into two sets (Set1, Set2) with a %60 and %40 random split\n",
    "- Replace category labels as 0 (for 3) and 1 (for 9)\n",
    "- Use Set1 to train a linear SVM classifier with default parameters and predict the class labels for Set2 \n",
    "- Use Set2 to train a linear SVM classifier with default parameters and predict the class labels for Set1 \n",
    "\n",
    "Q8.1: What is the prediction accuracy using the model trained on Set1:   **49.3%**\n",
    "\n",
    "Q8.2: What is the prediction accuracy using the model trained on Set2:   **50.9%**"
   ]
  },
  {
   "cell_type": "code",
   "execution_count": 332,
   "metadata": {},
   "outputs": [
    {
     "data": {
      "text/plain": [
       "(107,)"
      ]
     },
     "execution_count": 332,
     "metadata": {},
     "output_type": "execute_result"
    }
   ],
   "source": [
    "# Collect images from category 3 - I already gathered them earlier\n",
    "X_train_3s.shape\n",
    "Y_train_3s.shape\n",
    "\n",
    "# Collect images from category 9 - I already gathered the category 9 training set\n",
    "X_train_9s.shape\n",
    "Y_train_9s.shape"
   ]
  },
  {
   "cell_type": "code",
   "execution_count": 339,
   "metadata": {},
   "outputs": [],
   "source": [
    "# Combine categories 3 and 9\n",
    "X_train_39 = np.concatenate([X_train_3s, X_train_9s])\n",
    "Y_train_39 = np.concatenate([Y_train_3s, Y_train_9s])"
   ]
  },
  {
   "cell_type": "code",
   "execution_count": 345,
   "metadata": {},
   "outputs": [],
   "source": [
    "# split into two sets\n",
    "from sklearn.model_selection import train_test_split\n",
    "#X_train,X_test,y_train,y_test=train_test_split(X,y,test_size=0.2)\n",
    "x_set1, x_set2, y_set1, y_set2 = train_test_split(X_train_39, Y_train_39, test_size=0.4)"
   ]
  },
  {
   "cell_type": "code",
   "execution_count": 348,
   "metadata": {},
   "outputs": [],
   "source": [
    "# Replace category labels. cat 3 = 0, cat 9 = 1\n",
    "y_set1 = (y_set1 > 3).astype(int)\n",
    "y_set2 = (y_set2 > 3).astype(int)"
   ]
  },
  {
   "cell_type": "code",
   "execution_count": 367,
   "metadata": {},
   "outputs": [],
   "source": [
    "# Reshape the x sets so they're 2-dimensional to work with scaling, fitting, and predicting\n",
    "x_set1 = x_set1.reshape((x_set1.shape[0]),(28*28))\n",
    "x_set2 = x_set2.reshape((x_set2.shape[0]),(28*28))"
   ]
  },
  {
   "cell_type": "code",
   "execution_count": 368,
   "metadata": {},
   "outputs": [],
   "source": [
    "# Use Set1 to train a linear SVM classifier with default parameters and predict the class labels for Set2 \n",
    "from sklearn.preprocessing import StandardScaler\n",
    "\n",
    "sc = StandardScaler() # scale\n",
    "\n",
    "x_set1_scaled = sc.fit_transform(x_set1) # fit"
   ]
  },
  {
   "cell_type": "code",
   "execution_count": 369,
   "metadata": {},
   "outputs": [
    {
     "data": {
      "text/html": [
       "<style>#sk-container-id-2 {color: black;background-color: white;}#sk-container-id-2 pre{padding: 0;}#sk-container-id-2 div.sk-toggleable {background-color: white;}#sk-container-id-2 label.sk-toggleable__label {cursor: pointer;display: block;width: 100%;margin-bottom: 0;padding: 0.3em;box-sizing: border-box;text-align: center;}#sk-container-id-2 label.sk-toggleable__label-arrow:before {content: \"▸\";float: left;margin-right: 0.25em;color: #696969;}#sk-container-id-2 label.sk-toggleable__label-arrow:hover:before {color: black;}#sk-container-id-2 div.sk-estimator:hover label.sk-toggleable__label-arrow:before {color: black;}#sk-container-id-2 div.sk-toggleable__content {max-height: 0;max-width: 0;overflow: hidden;text-align: left;background-color: #f0f8ff;}#sk-container-id-2 div.sk-toggleable__content pre {margin: 0.2em;color: black;border-radius: 0.25em;background-color: #f0f8ff;}#sk-container-id-2 input.sk-toggleable__control:checked~div.sk-toggleable__content {max-height: 200px;max-width: 100%;overflow: auto;}#sk-container-id-2 input.sk-toggleable__control:checked~label.sk-toggleable__label-arrow:before {content: \"▾\";}#sk-container-id-2 div.sk-estimator input.sk-toggleable__control:checked~label.sk-toggleable__label {background-color: #d4ebff;}#sk-container-id-2 div.sk-label input.sk-toggleable__control:checked~label.sk-toggleable__label {background-color: #d4ebff;}#sk-container-id-2 input.sk-hidden--visually {border: 0;clip: rect(1px 1px 1px 1px);clip: rect(1px, 1px, 1px, 1px);height: 1px;margin: -1px;overflow: hidden;padding: 0;position: absolute;width: 1px;}#sk-container-id-2 div.sk-estimator {font-family: monospace;background-color: #f0f8ff;border: 1px dotted black;border-radius: 0.25em;box-sizing: border-box;margin-bottom: 0.5em;}#sk-container-id-2 div.sk-estimator:hover {background-color: #d4ebff;}#sk-container-id-2 div.sk-parallel-item::after {content: \"\";width: 100%;border-bottom: 1px solid gray;flex-grow: 1;}#sk-container-id-2 div.sk-label:hover label.sk-toggleable__label {background-color: #d4ebff;}#sk-container-id-2 div.sk-serial::before {content: \"\";position: absolute;border-left: 1px solid gray;box-sizing: border-box;top: 0;bottom: 0;left: 50%;z-index: 0;}#sk-container-id-2 div.sk-serial {display: flex;flex-direction: column;align-items: center;background-color: white;padding-right: 0.2em;padding-left: 0.2em;position: relative;}#sk-container-id-2 div.sk-item {position: relative;z-index: 1;}#sk-container-id-2 div.sk-parallel {display: flex;align-items: stretch;justify-content: center;background-color: white;position: relative;}#sk-container-id-2 div.sk-item::before, #sk-container-id-2 div.sk-parallel-item::before {content: \"\";position: absolute;border-left: 1px solid gray;box-sizing: border-box;top: 0;bottom: 0;left: 50%;z-index: -1;}#sk-container-id-2 div.sk-parallel-item {display: flex;flex-direction: column;z-index: 1;position: relative;background-color: white;}#sk-container-id-2 div.sk-parallel-item:first-child::after {align-self: flex-end;width: 50%;}#sk-container-id-2 div.sk-parallel-item:last-child::after {align-self: flex-start;width: 50%;}#sk-container-id-2 div.sk-parallel-item:only-child::after {width: 0;}#sk-container-id-2 div.sk-dashed-wrapped {border: 1px dashed gray;margin: 0 0.4em 0.5em 0.4em;box-sizing: border-box;padding-bottom: 0.4em;background-color: white;}#sk-container-id-2 div.sk-label label {font-family: monospace;font-weight: bold;display: inline-block;line-height: 1.2em;}#sk-container-id-2 div.sk-label-container {text-align: center;}#sk-container-id-2 div.sk-container {/* jupyter's `normalize.less` sets `[hidden] { display: none; }` but bootstrap.min.css set `[hidden] { display: none !important; }` so we also need the `!important` here to be able to override the default hidden behavior on the sphinx rendered scikit-learn.org. See: https://github.com/scikit-learn/scikit-learn/issues/21755 */display: inline-block !important;position: relative;}#sk-container-id-2 div.sk-text-repr-fallback {display: none;}</style><div id=\"sk-container-id-2\" class=\"sk-top-container\"><div class=\"sk-text-repr-fallback\"><pre>SVC()</pre><b>In a Jupyter environment, please rerun this cell to show the HTML representation or trust the notebook. <br />On GitHub, the HTML representation is unable to render, please try loading this page with nbviewer.org.</b></div><div class=\"sk-container\" hidden><div class=\"sk-item\"><div class=\"sk-estimator sk-toggleable\"><input class=\"sk-toggleable__control sk-hidden--visually\" id=\"sk-estimator-id-2\" type=\"checkbox\" checked><label for=\"sk-estimator-id-2\" class=\"sk-toggleable__label sk-toggleable__label-arrow\">SVC</label><div class=\"sk-toggleable__content\"><pre>SVC()</pre></div></div></div></div></div>"
      ],
      "text/plain": [
       "SVC()"
      ]
     },
     "execution_count": 369,
     "metadata": {},
     "output_type": "execute_result"
    }
   ],
   "source": [
    "from sklearn import svm\n",
    "svm_model = svm.SVC()\n",
    "\n",
    "svm_model.fit(X = x_set1_scaled, y = y_set1) # train"
   ]
  },
  {
   "cell_type": "code",
   "execution_count": 370,
   "metadata": {},
   "outputs": [],
   "source": [
    "# Predict class labels for Set2\n",
    "pred_for_set2 = svm_model.predict(x_set2) # predict"
   ]
  },
  {
   "cell_type": "code",
   "execution_count": 371,
   "metadata": {},
   "outputs": [
    {
     "data": {
      "text/plain": [
       "0.493801652892562"
      ]
     },
     "execution_count": 371,
     "metadata": {},
     "output_type": "execute_result"
    }
   ],
   "source": [
    "from sklearn.metrics import accuracy_score\n",
    "accuracy_score(y_set2, pred_for_set2) # evaluate"
   ]
  },
  {
   "cell_type": "code",
   "execution_count": 372,
   "metadata": {},
   "outputs": [
    {
     "data": {
      "text/plain": [
       "0.5089655172413793"
      ]
     },
     "execution_count": 372,
     "metadata": {},
     "output_type": "execute_result"
    }
   ],
   "source": [
    "# Use Set2 to train a linear SVM classifier with default parameters and predict the class labels for Set1 \n",
    "x_set2_scaled = sc.fit_transform(x_set2) # scale\n",
    "svm_model.fit(X = x_set2_scaled, y = y_set2) # train\n",
    "pred_for_set1 = svm_model.predict(x_set1) # predict\n",
    "accuracy_score(y_set1, pred_for_set1) # evaluate"
   ]
  },
  {
   "attachments": {},
   "cell_type": "markdown",
   "metadata": {},
   "source": [
    "### S9: Binary classification between category 3 and 9 (train + test sets)\n",
    "- Select images from these two categories in the training and testing datasets\n",
    "- Replace category labels as 0 (for 3) and 1 (for 9)\n",
    "- Use training set to train a linear SVM classifier with default parameters and predict the class labels for the testing set\n",
    "- Use testing set to train a linear SVM classifier with default parameters and predict the class labels for the training set\n",
    "\n",
    "Q9.1: What is the prediction accuracy using the model trained on the training set:   **50.2%**\n",
    "\n",
    "Q9.2: What is the prediction accuracy using the model trained on the testing set:   **51%**"
   ]
  },
  {
   "cell_type": "code",
   "execution_count": null,
   "metadata": {},
   "outputs": [],
   "source": [
    "# Collect images from category 3 - I already gathered them earlier\n",
    "X_train_3s.shape\n",
    "Y_train_3s.shape\n",
    "X_test_3s\n",
    "Y_test_3s\n",
    "\n",
    "# Collect images from category 9 - I already gathered the category 9 training set\n",
    "X_train_9s.shape\n",
    "Y_train_9s.shape"
   ]
  },
  {
   "cell_type": "code",
   "execution_count": 373,
   "metadata": {},
   "outputs": [],
   "source": [
    "# I need to gather the category 9s test set\n",
    "test_index_of_9s = list() # initialize list for indices to go to\n",
    "\n",
    "length_test = Y_test_new.shape[0] # how long is this df - for the range\n",
    "\n",
    "for i in range(0, length_test):\n",
    "    if Y_test_new[i] == 9: # if the value is 6, append it to the list\n",
    "        test_index_of_9s.append(i)\n",
    "\n",
    "# select the category 9s from the training set\n",
    "Y_test_9s = Y_test_new[test_index_of_9s]\n",
    "X_test_9s = X_test_new[test_index_of_9s]"
   ]
  },
  {
   "cell_type": "code",
   "execution_count": 376,
   "metadata": {},
   "outputs": [],
   "source": [
    "# Combine categories 3 and 9 for test and train sets\n",
    "X_tt_39 = np.concatenate([X_train_3s, X_train_9s, X_test_3s, X_test_9s])\n",
    "Y_tt_39 = np.concatenate([Y_train_3s, Y_train_9s, Y_test_3s, Y_test_9s])"
   ]
  },
  {
   "cell_type": "code",
   "execution_count": 379,
   "metadata": {},
   "outputs": [],
   "source": [
    "# Replace category labels. cat 3 = 0, cat 9 = 1\n",
    "Y_tt_39 = (Y_tt_39 > 3).astype(int)"
   ]
  },
  {
   "cell_type": "code",
   "execution_count": 382,
   "metadata": {},
   "outputs": [],
   "source": [
    "# split into training and test sets \n",
    "#X_train,X_test,y_train,y_test=train_test_split(X,y,test_size=0.2)\n",
    "x_39_train, x_39_test, y_39_train, y_39_test = train_test_split(X_tt_39, Y_tt_39, test_size=0.4)\n",
    "\n",
    "# Reshape x sets\n",
    "# Reshape the x sets so they're 2-dimensional to work with scaling, fitting, and predicting\n",
    "x_39_train = x_39_train.reshape((x_39_train.shape[0]),(28*28))\n",
    "x_39_test = x_39_test.reshape((x_39_test.shape[0]),(28*28))"
   ]
  },
  {
   "cell_type": "code",
   "execution_count": 383,
   "metadata": {},
   "outputs": [
    {
     "data": {
      "text/plain": [
       "0.50177304964539"
      ]
     },
     "execution_count": 383,
     "metadata": {},
     "output_type": "execute_result"
    }
   ],
   "source": [
    "# Use training set to train a linear SVM classifier with default parameters and predict the class labels for test set\n",
    "x_39_trained_scaled = sc.fit_transform(x_39_train) # scale\n",
    "svm_model.fit(X = x_39_trained_scaled, y = y_39_train) # train\n",
    "pred_for_39test = svm_model.predict(x_39_test) # predict\n",
    "accuracy_score(y_39_test, pred_for_39test) # evaluate"
   ]
  },
  {
   "cell_type": "code",
   "execution_count": 384,
   "metadata": {},
   "outputs": [
    {
     "data": {
      "text/plain": [
       "0.5106382978723404"
      ]
     },
     "execution_count": 384,
     "metadata": {},
     "output_type": "execute_result"
    }
   ],
   "source": [
    "# Use test set to train a linear SVM classifier with default parameters and predict the class labels for training set\n",
    "x_39_test_scaled = sc.fit_transform(x_39_test) # scale\n",
    "svm_model.fit(X = x_39_test_scaled, y = y_39_test) # train\n",
    "pred_for_39train = svm_model.predict(x_39_train) # predict\n",
    "accuracy_score(y_39_train, pred_for_39train) # evaluate"
   ]
  },
  {
   "cell_type": "markdown",
   "metadata": {},
   "source": [
    "### S10: k-NN Error Analysis\n",
    "- In training and testing datasets select the images in categories: 1, 3, 5, 7 or 9\n",
    "- Train k-NN classifiers using 4 to 40 nearest neighbors with a step size of 4\n",
    "- Calculate and plot overall testing accuracy for each experiment\n",
    "\n",
    "Q10.1: For k=4 what is the label that was predicted with lowest accuracy:   ___\n",
    "\n",
    "Q10.2: For k=20 what is the label that was predicted with lowest accuracy:   ___\n",
    "\n",
    "Q10.3: What is the label pair that was confused most often (i.e. class A is labeled as B, and vice versa):   ___\n",
    "\n",
    "Q10.4: Visualize 5 mislabeled samples with their actual and predicted labels"
   ]
  },
  {
   "cell_type": "markdown",
   "metadata": {},
   "source": [
    "### S11: Feature extraction\n",
    "\n",
    "- We describe each image by using a reduced set of features (compared to n=784 initial features for each pixel value) as follows:\n",
    "  \n",
    "  1. Binarize the image (background=0, foreground=1)\n",
    "\n",
    "  2. For each image row i, find n_i, the sum of 1's in the row (28 features) \n",
    "  \n",
    "  3. For each image column j, find n_j, the sum of 1's in the column (28 features)\n",
    "  \n",
    "  4. Concatenate these features into a feature vector of 56 features\n",
    "  \n",
    "Repeat classification experiments in S9 using this reduced feature set.\n",
    "\n",
    "Q11.1: What is the prediction accuracy using the model trained using the train data:   ___\n",
    "\n",
    "Q11.2: What is the prediction accuracy using the model trained using the test data:   ___\n"
   ]
  },
  {
   "cell_type": "markdown",
   "metadata": {},
   "source": [
    "### Bonus:\n",
    "\n",
    "- This time we describe each 28 x 28 image by using a different feature set (n = 28 x 4 features). This feature set encodes \"index of the first non-zero pixel in image columns or rows\" from each direction (from left, right, top, bottom)\n",
    "\n",
    "Example for a 6 x 6 image:\n",
    "\n",
    "Img:\n",
    " 0 0 0 0 0 0\n",
    " 0 0 0 1 0 0\n",
    " 0 0 0 1 0 0\n",
    " 0 0 0 1 0 0\n",
    " 0 0 0 1 0 0\n",
    " 0 0 0 0 0 0\n",
    " \n",
    "Extracted features:\n",
    " 0 3 3 3 3 0  0 2 2 2 2 0  0 0 0 1 0 0  0 0 0 1 0 0   (left, right, top, bottom)\n",
    "  \n",
    "Repeat classification experiments in S9 using this reduced feature set.\n",
    "\n",
    "Q11.1: What is the prediction accuracy using the model trained using the train data:   ___\n",
    "\n",
    "Q11.2: What is the prediction accuracy using the model trained using the test data:   ___\n"
   ]
  }
 ],
 "metadata": {
  "kernelspec": {
   "display_name": "musa-650",
   "language": "python",
   "name": "python3"
  },
  "language_info": {
   "codemirror_mode": {
    "name": "ipython",
    "version": 3
   },
   "file_extension": ".py",
   "mimetype": "text/x-python",
   "name": "python",
   "nbconvert_exporter": "python",
   "pygments_lexer": "ipython3",
   "version": "3.9.15"
  },
  "vscode": {
   "interpreter": {
    "hash": "782854dbe31d9d40ccc1f23e0f0acbf793f71ea21b4d4452c1d2bd0c6a407192"
   }
  }
 },
 "nbformat": 4,
 "nbformat_minor": 2
}

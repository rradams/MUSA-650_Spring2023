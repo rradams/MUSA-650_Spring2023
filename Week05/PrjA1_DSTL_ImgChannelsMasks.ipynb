{
 "cells": [
  {
   "cell_type": "markdown",
   "metadata": {
    "colab_type": "text",
    "id": "view-in-github"
   },
   "source": [
    "<a href=\"https://colab.research.google.com/drive/1rDgf0nh-u8cmKL3wCs7nHsxqxi8HyRgu\" target=\"_parent\"><img src=\"https://colab.research.google.com/assets/colab-badge.svg\" alt=\"Open In Colab\"/></a>"
   ]
  },
  {
   "cell_type": "code",
   "execution_count": null,
   "metadata": {
    "colab": {
     "base_uri": "https://localhost:8080/",
     "height": 68
    },
    "colab_type": "code",
    "id": "xZ8HKX8d9m4d",
    "outputId": "a9ccce1c-92cd-4df7-cf95-409fb8f8f83f"
   },
   "outputs": [],
   "source": [
    "!pip install tifffile"
   ]
  },
  {
   "cell_type": "code",
   "execution_count": null,
   "metadata": {
    "colab": {
     "base_uri": "https://localhost:8080/",
     "height": 34
    },
    "colab_type": "code",
    "id": "HRmamNb6B4N2",
    "outputId": "9baecc4b-3839-41bf-b454-a92a8ae37e49"
   },
   "outputs": [],
   "source": [
    "from google.colab import drive\n",
    "drive.mount('/content/drive')"
   ]
  },
  {
   "cell_type": "code",
   "execution_count": null,
   "metadata": {
    "colab": {},
    "colab_type": "code",
    "id": "lGHBC3kR931B"
   },
   "outputs": [],
   "source": [
    "import sys\n",
    "import pandas as pd\n",
    "import cv2\n",
    "from shapely.geometry import MultiPolygon, Polygon\n",
    "import shapely.wkt\n",
    "import shapely.affinity\n",
    "import numpy as np\n",
    "import tifffile as tiff\n",
    "import matplotlib\n",
    "import matplotlib.pyplot as plt\n",
    "import pdb"
   ]
  },
  {
   "cell_type": "code",
   "execution_count": null,
   "metadata": {
    "colab": {},
    "colab_type": "code",
    "id": "jpJM8v3sdojU"
   },
   "outputs": [],
   "source": [
    "## Functions\n",
    "\n",
    "## Calculate scaling in x and y for vector to raster transformation\n",
    "def getScaleXY(imgSize, xMax, yMin):\n",
    "    h, w = imgSize\n",
    "    wc = w * (w / (w + 1))\n",
    "    hc = h * (h / (h + 1))\n",
    "    return wc / xMax, hc / yMin\n"
   ]
  },
  {
   "cell_type": "code",
   "execution_count": null,
   "metadata": {
    "colab": {},
    "colab_type": "code",
    "id": "ydMwzdqUdsla"
   },
   "outputs": [],
   "source": [
    "## Intensity normalize images \n",
    "def scaleImg(imgIn, percLow, percHigh, isMaxRange=0):\n",
    "    w, h, d = imgIn.shape\n",
    "    imgOut = np.reshape(imgIn, [w * h, d]).astype(np.float64)\n",
    "    mins = np.percentile(imgOut, percLow, axis=0)\n",
    "#    maxs = np.percentile(imgOut, percHigh, axis=0)\n",
    "    maxs = np.percentile(imgOut.flatten(), percHigh)\n",
    "    difs = maxs - mins\n",
    "    \n",
    "    if isMaxRange==1:\n",
    "      imgOut = (imgOut - mins[None, :]) / difs[None, :]\n",
    "      imgOut = imgOut / difs[None, :]\n",
    "    else:\n",
    "#      imgOut = imgOut / maxs[None, :]\n",
    "      imgOut = imgOut / maxs\n",
    "      \n",
    "    imgOut = np.reshape(imgOut, [w, h, d])\n",
    "    print(np.max(imgOut[:,:,0].flatten()))\n",
    "    imgOut = imgOut.clip(0, 1)\n",
    "    imgOut = (imgOut * 255).round().astype(np.uint8)\n",
    "    return imgOut\n"
   ]
  },
  {
   "cell_type": "code",
   "execution_count": null,
   "metadata": {
    "colab": {},
    "colab_type": "code",
    "id": "YGBY16f-q8ix"
   },
   "outputs": [],
   "source": [
    "def scaleImgPerc(imgIn):\n",
    "    w, h, d = imgIn.shape\n",
    "    imgIn = np.reshape(imgIn, [w * h, d]).astype(np.float64)\n",
    "    # Get 1st and 99th percentile\n",
    "    mins = np.percentile(imgIn, 1, axis=0)\n",
    "    maxs = np.percentile(imgIn, 99, axis=0) - mins\n",
    "    imgIn = (imgIn - mins[None, :]) / maxs[None, :]\n",
    "    imgIn = np.reshape(imgIn, [w, h, d])\n",
    "    imgIn = imgIn.clip(0, 1)\n",
    "    return imgIn\n"
   ]
  },
  {
   "cell_type": "code",
   "execution_count": null,
   "metadata": {
    "colab": {},
    "colab_type": "code",
    "id": "zP7_DlSMeX61"
   },
   "outputs": [],
   "source": [
    "## Create a binary mask from a given polygon\n",
    "def polyToMask(imgSize, polygons):\n",
    "    labelMask = np.zeros(imgSize, np.uint8)\n",
    "    if not polygons:\n",
    "        print('    EMPTY poly object')\n",
    "        return labelMask\n",
    "    int_coords = lambda x: np.array(x).round().astype(np.int32)\n",
    "    exteriors = [int_coords(poly.exterior.coords) for poly in polygons]\n",
    "    interiors = [int_coords(pi.coords) for poly in polygons for pi in poly.interiors]\n",
    "    cv2.fillPoly(labelMask, exteriors, 1)\n",
    "    cv2.fillPoly(labelMask, interiors, 0)\n",
    "    return labelMask\n"
   ]
  },
  {
   "cell_type": "code",
   "execution_count": null,
   "metadata": {
    "colab": {},
    "colab_type": "code",
    "id": "8OOoPPIH-Q-3"
   },
   "outputs": [],
   "source": [
    "############################################\n",
    "## Hard coded paths and vars\n",
    "BDIR = '/content/drive/My Drive/PrjData/Prj_DSTL/Data_Init'\n",
    "IMGDIR = BDIR + '/Images_SmallSampleSize'\n",
    "IMG_LIST = IMGDIR + '/ListID.csv'\n",
    "  \n",
    "CSV_POLY = BDIR + '/' + 'train_wkt_v4.csv'\n",
    "CSV_GS = BDIR + '/' + 'grid_sizes.csv'\n",
    "CSV_CTYPE = BDIR + '/' + 'DSTL_ClassTypes.csv'\n"
   ]
  },
  {
   "cell_type": "code",
   "execution_count": null,
   "metadata": {
    "colab": {},
    "colab_type": "code",
    "id": "XJMNFMzhbYU5"
   },
   "outputs": [],
   "source": [
    "############################################\n",
    "## Main\n",
    "\n",
    "## Read csv files\n",
    "dfP = pd.read_csv(CSV_POLY)\n",
    "dfG = pd.read_csv(CSV_GS, names=['ImageId', 'Xmax', 'Ymin'], skiprows=1)\n",
    "dfC = pd.read_csv(CSV_CTYPE)\n",
    "\n",
    "dfID = pd.read_csv(IMG_LIST)\n"
   ]
  },
  {
   "cell_type": "code",
   "execution_count": null,
   "metadata": {
    "colab": {
     "base_uri": "https://localhost:8080/",
     "height": 204
    },
    "colab_type": "code",
    "id": "V-Y7XfdbcYBd",
    "outputId": "b9d53ce1-2de5-4167-d906-9ae0188d2304"
   },
   "outputs": [],
   "source": [
    "dfP.head()"
   ]
  },
  {
   "cell_type": "code",
   "execution_count": null,
   "metadata": {
    "colab": {
     "base_uri": "https://localhost:8080/",
     "height": 204
    },
    "colab_type": "code",
    "id": "-v0M3IQzcavy",
    "outputId": "b2be485b-e9d2-44d3-be18-00e60eaad255"
   },
   "outputs": [],
   "source": [
    "dfG.head()"
   ]
  },
  {
   "cell_type": "code",
   "execution_count": null,
   "metadata": {
    "colab": {
     "base_uri": "https://localhost:8080/",
     "height": 204
    },
    "colab_type": "code",
    "id": "-B3aRZL2zyQE",
    "outputId": "616063b0-7e93-4db7-86f5-2fa6c94cc087"
   },
   "outputs": [],
   "source": [
    "dfC.head()"
   ]
  },
  {
   "cell_type": "code",
   "execution_count": null,
   "metadata": {
    "colab": {
     "base_uri": "https://localhost:8080/",
     "height": 34
    },
    "colab_type": "code",
    "id": "m9eX6GW1uoJr",
    "outputId": "af46d553-ef52-45e8-e9ca-b426eb984067"
   },
   "outputs": [],
   "source": [
    "## Read image\n",
    "IMGID = '6100_2_3'\n",
    "\n",
    "imgRGB = tiff.imread(IMGDIR + '/' + IMGID + '.tif').transpose([1, 2, 0])\n",
    "imgSc = scaleImgPerc(imgRGB)\n",
    "imgSc.shape"
   ]
  },
  {
   "cell_type": "code",
   "execution_count": null,
   "metadata": {
    "colab": {
     "base_uri": "https://localhost:8080/",
     "height": 648
    },
    "colab_type": "code",
    "id": "J9YE-YiPhOiD",
    "outputId": "bea123cd-7b97-4808-aa64-27dbc6ba190e"
   },
   "outputs": [],
   "source": [
    "tiff.imshow(imgSc)"
   ]
  },
  {
   "cell_type": "code",
   "execution_count": null,
   "metadata": {
    "colab": {
     "base_uri": "https://localhost:8080/",
     "height": 648
    },
    "colab_type": "code",
    "id": "sonxPM2GpLxF",
    "outputId": "abf943e6-7d70-432d-8320-f44e7f3c2aab"
   },
   "outputs": [],
   "source": [
    "imgC = imgSc[200:1200, 200:1200,:]\n",
    "tiff.imshow(imgC)"
   ]
  },
  {
   "cell_type": "code",
   "execution_count": null,
   "metadata": {
    "colab": {
     "base_uri": "https://localhost:8080/",
     "height": 937
    },
    "colab_type": "code",
    "id": "04u1ijwbfl8d",
    "outputId": "527c36e9-1011-4e7b-ae2b-41cda0469b77"
   },
   "outputs": [],
   "source": [
    "fig, ax = plt.subplots(2, 2, figsize=[16,16])\n",
    "ax[0,0].imshow(imgC[:,:,0], cmap='gray')\n",
    "ax[0,1].imshow(imgC[:,:,1], cmap='gray')\n",
    "ax[1,0].imshow(imgC[:,:,2], cmap='gray')\n",
    "ax[1,1].imshow(imgC)"
   ]
  },
  {
   "cell_type": "code",
   "execution_count": null,
   "metadata": {
    "colab": {
     "base_uri": "https://localhost:8080/",
     "height": 648
    },
    "colab_type": "code",
    "id": "_wHtbgPzDipc",
    "outputId": "ef605b46-0559-441d-ceab-1741b8bb45f4"
   },
   "outputs": [],
   "source": [
    "imgCTmp = imgC[:, :, [2,1,0]]\n",
    "tiff.imshow(imgCTmp)"
   ]
  },
  {
   "cell_type": "code",
   "execution_count": null,
   "metadata": {
    "colab": {
     "base_uri": "https://localhost:8080/",
     "height": 1000
    },
    "colab_type": "code",
    "id": "gKw8pkAUuh5s",
    "outputId": "577a3a48-a99b-485e-d98f-3e9c2d22e305"
   },
   "outputs": [],
   "source": [
    "## For each image create a mask with labels of all objects\n",
    "imgIds = dfID.IMG_ID.tolist()\n",
    "\n",
    "ListImgAll = []\n",
    "ListLabelAll = []\n",
    "for i, tmpId in enumerate(imgIds):\n",
    "#for i, tmpId in enumerate(imgIds[0:4]):\n",
    "\n",
    "    print('\\nImage no ' + str(i) + ': ' + tmpId)\n",
    "\n",
    "    # Read grid size\n",
    "    xMax = dfG[dfG.ImageId == tmpId].Xmax\n",
    "    yMin = dfG[dfG.ImageId == tmpId].Ymin\n",
    "\n",
    "    # Read RGB image, scale intensities\n",
    "    imgRGB = tiff.imread(IMGDIR + '/' + tmpId + '.tif').transpose([1, 2, 0])\n",
    "    #imgSc = scaleImg(imgRGB, 0, 100, 0)\n",
    "    imgSc = scaleImgPerc(imgRGB)\n",
    "\n",
    "    imgSize = imgRGB.shape[:2]\n",
    "    imgX = imgSize[0]\n",
    "    imgY = imgSize[1]\n",
    "\n",
    "    # Calculate scale factors\n",
    "    scX, scY = getScaleXY(imgSize, xMax, yMin)\n",
    "\n",
    "    # Create a mask with all labels\n",
    "    maskAll = np.zeros([imgX, imgY, 11], np.uint8)\n",
    "    dfSel = dfP[dfP.ImageId == tmpId]\n",
    "    for j, tmpRow in dfSel.iterrows():\n",
    "\n",
    "        print(' Object no ' + str(j) + ': ' + str(tmpRow.ClassType))\n",
    "        \n",
    "        polyInit = shapely.wkt.loads(tmpRow.MultipolygonWKT)\n",
    "\n",
    "        # Scale polygons\n",
    "        polySc = shapely.affinity.scale(polyInit, xfact=scX, yfact=scY, origin=(0, 0, 0))\n",
    "        \n",
    "        maskAll[:,:,tmpRow.ClassType] = polyToMask(imgSize, polySc)\n",
    "        \n",
    "    # Select the object in each pixel\n",
    "    maskComb = np.argmax(maskAll, axis=2).astype(np.uint8)\n",
    "\n",
    "    # Append img and mask to out lists\n",
    "    ListImgAll.append(imgSc)\n",
    "    ListLabelAll.append(maskComb)\n",
    "\n"
   ]
  },
  {
   "cell_type": "code",
   "execution_count": null,
   "metadata": {
    "colab": {
     "base_uri": "https://localhost:8080/",
     "height": 204
    },
    "colab_type": "code",
    "id": "6RjHUNiS0t3C",
    "outputId": "e0fb4c73-7750-4e55-d1d5-69d2bcdf1ecf"
   },
   "outputs": [],
   "source": [
    "dfC.Class.tolist()"
   ]
  },
  {
   "cell_type": "code",
   "execution_count": null,
   "metadata": {
    "colab": {
     "base_uri": "https://localhost:8080/",
     "height": 661
    },
    "colab_type": "code",
    "id": "7KVpWV1QEZhd",
    "outputId": "b1e64bfb-0ada-420d-935e-9bb3d0dca3e1"
   },
   "outputs": [],
   "source": [
    "## Show masked area\n",
    "img = ListImgAll[1]\n",
    "mask = ListLabelAll[1]\n",
    "\n",
    "cmap = matplotlib.colors.ListedColormap(['w', 'k', 'r', '#FF8C00','y','g','#FFFF00','b','c','m','#FF8EFC']) #10 classes\n",
    "\n",
    "fig, ax = plt.subplots(1, 2, figsize=[24,24])\n",
    "pImg = ax[0].imshow(img)\n",
    "pMask = ax[1].imshow(mask, cmap=cmap)\n",
    "cbar = fig.colorbar(pMask, ax=ax[1], fraction=0.046, pad=0.04, ticks=np.arange(0,11))\n",
    "cbar.ax.set_yticklabels(dfC.Class.tolist())\n",
    "cbar.ax.tick_params(labelsize=12)\n"
   ]
  },
  {
   "cell_type": "code",
   "execution_count": null,
   "metadata": {
    "colab": {
     "base_uri": "https://localhost:8080/",
     "height": 659
    },
    "colab_type": "code",
    "id": "aLp8tN2c1cy-",
    "outputId": "6e00a908-8186-4aef-ae1e-4e3d53aff7f3"
   },
   "outputs": [],
   "source": [
    "## Show masked area\n",
    "img = ListImgAll[1][200:1200, 200:1200,:]\n",
    "mask = ListLabelAll[1][200:1200, 200:1200]\n",
    "\n",
    "cmap = matplotlib.colors.ListedColormap(['w', 'k', 'r', '#FF8C00','y','g','#FFFF00','b','c','m','#FF8EFC']) #10 classes\n",
    "\n",
    "fig, ax = plt.subplots(1, 2, figsize=[24,24])\n",
    "pImg = ax[0].imshow(img)\n",
    "pMask = ax[1].imshow(mask, cmap=cmap)\n",
    "cbar = fig.colorbar(pMask, ax=ax[1], fraction=0.046, pad=0.04, ticks=np.arange(0,11))\n",
    "cbar.ax.set_yticklabels(dfC.Class.tolist())\n",
    "cbar.ax.tick_params(labelsize=12)\n"
   ]
  }
 ],
 "metadata": {
  "colab": {
   "collapsed_sections": [],
   "include_colab_link": true,
   "name": "PrjA1_DSTL_ImgChannelsMasks.ipynb",
   "provenance": []
  },
  "kernelspec": {
   "display_name": "Python 3 (ipykernel)",
   "language": "python",
   "name": "python3"
  },
  "language_info": {
   "codemirror_mode": {
    "name": "ipython",
    "version": 3
   },
   "file_extension": ".py",
   "mimetype": "text/x-python",
   "name": "python",
   "nbconvert_exporter": "python",
   "pygments_lexer": "ipython3",
   "version": "3.9.12"
  }
 },
 "nbformat": 4,
 "nbformat_minor": 1
}
